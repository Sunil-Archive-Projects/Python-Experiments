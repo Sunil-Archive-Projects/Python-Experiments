{
 "cells": [
  {
   "cell_type": "code",
   "execution_count": 125,
   "metadata": {},
   "outputs": [],
   "source": [
    "#!/usr/bin/python\n",
    "#pip install slackclient\n",
    "from slackclient import SlackClient\n",
    "import os\n",
    "import platform\n",
    "from datetime import datetime\n",
    "import subprocess\n",
    "import urllib3"
   ]
  },
  {
   "cell_type": "code",
   "execution_count": 101,
   "metadata": {},
   "outputs": [],
   "source": [
    "#to read the token from slack_token.ini file\n",
    "def read_token(token_filePath):\n",
    "    if not os.path.isfile(token_filePath):\n",
    "        print(\"File path {} does not exist. Exiting...\".format(filepath))\n",
    "        print(\"Create a File Named slack_token.ini and paste the Token\")\n",
    "        sys.exit()\n",
    "\n",
    "    fp = open(token_filePath, 'r')  \n",
    "    token = fp.read()\n",
    "    fp.close()\n",
    "    return token.strip()"
   ]
  },
  {
   "cell_type": "code",
   "execution_count": 102,
   "metadata": {},
   "outputs": [],
   "source": [
    "#send a text to a channel as message\n",
    "def sendtext(channel,text,username=\"Raspi_Bot\"):\n",
    "    sc.api_call(\"chat.postMessage\",channel=channel,text=text,username=\"Raspi_Bot\")\n",
    "\n"
   ]
  },
  {
   "cell_type": "code",
   "execution_count": 103,
   "metadata": {},
   "outputs": [],
   "source": [
    "#get internet conection details\n",
    "def getConnectionDetails():\n",
    "    try:\n",
    "        http = urllib3.PoolManager()\n",
    "        req = http.request('GET','http://216.58.192.142')\n",
    "        print('x')\n",
    "        connection_ssid = subprocess.check_output('ls')\n",
    "        print('y')\n",
    "        return connection_ssid\n",
    "    except:\n",
    "        return False"
   ]
  },
  {
   "cell_type": "code",
   "execution_count": 140,
   "metadata": {},
   "outputs": [],
   "source": [
    "#api documentation at https://api.slack.com/methods/chat.postMessage#authorship\n",
    "\n",
    "def get_temperature():\n",
    "    temperature = subprocess.check_output('/opt/vc/bin/vcgencmd measure_temp') \n"
   ]
  },
  {
   "cell_type": "code",
   "execution_count": 142,
   "metadata": {},
   "outputs": [
    {
     "name": "stdout",
     "output_type": "stream",
     "text": [
      "x\n",
      "False\n"
     ]
    }
   ],
   "source": [
    "#read token form slack_token.ini and initialize slack client\n",
    "#create token for your app from https://api.slack.com/custom-integrations/legacy-tokens\n",
    "\n",
    "slack_token = read_token(\"./slack_token.ini\")\n",
    "sc = SlackClient(slack_token)\n",
    "\n",
    "x = getConnectionDetails()\n",
    "print(x)\n",
    "\n",
    "\n",
    "\n",
    "\n",
    "sendtext(channel = \"#general\", text = \"General Info Text  \\nSent from : \"+platform.node() + \"\\nSent at : \" + str(datetime.now()) )"
   ]
  }
 ],
 "metadata": {
  "kernelspec": {
   "display_name": "Python 3",
   "language": "python",
   "name": "python3"
  },
  "language_info": {
   "codemirror_mode": {
    "name": "ipython",
    "version": 3
   },
   "file_extension": ".py",
   "mimetype": "text/x-python",
   "name": "python",
   "nbconvert_exporter": "python",
   "pygments_lexer": "ipython3",
   "version": "3.6.1"
  }
 },
 "nbformat": 4,
 "nbformat_minor": 2
}
