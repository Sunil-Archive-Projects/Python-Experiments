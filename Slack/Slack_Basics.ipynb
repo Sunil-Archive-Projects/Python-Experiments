{
 "cells": [
  {
   "cell_type": "code",
   "execution_count": 22,
   "metadata": {},
   "outputs": [],
   "source": [
    "#!/usr/bin/python\n",
    "#pip install slackclient\n",
    "from slackclient import SlackClient\n",
    "import os"
   ]
  },
  {
   "cell_type": "code",
   "execution_count": 38,
   "metadata": {},
   "outputs": [],
   "source": [
    "#to read the token from slack_token.ini file\n",
    "def read_token(token_filePath):\n",
    "    if not os.path.isfile(token_filePath):\n",
    "        print(\"File path {} does not exist. Exiting...\".format(filepath))\n",
    "        print(\"Create a File Named slack_token.ini and paste the Token\")\n",
    "        sys.exit()\n",
    "\n",
    "    fp = open('./slack_token.ini', 'r')  \n",
    "    token = fp.read()\n",
    "    fp.close()\n",
    "    return token"
   ]
  },
  {
   "cell_type": "code",
   "execution_count": 44,
   "metadata": {},
   "outputs": [
    {
     "data": {
      "text/plain": [
       "{'channel': 'C7H76E36V',\n",
       " 'message': {'bot_id': 'B7HNDRQ1G',\n",
       "  'subtype': 'bot_message',\n",
       "  'text': 'Hello from Python! :tada:',\n",
       "  'ts': '1507875993.000042',\n",
       "  'type': 'message',\n",
       "  'username': 'Slack API Tester'},\n",
       " 'ok': True,\n",
       " 'ts': '1507875993.000042'}"
      ]
     },
     "execution_count": 44,
     "metadata": {},
     "output_type": "execute_result"
    }
   ],
   "source": [
    "#read token form slack_token.ini and initialize slack client\n",
    "#create token for your app from https://api.slack.com/custom-integrations/legacy-tokens\n",
    "\n",
    "slack_token = read_token(\"./slack_token.ini\")\n",
    "sc = SlackClient(slack_token)"
   ]
  },
  {
   "cell_type": "code",
   "execution_count": 57,
   "metadata": {},
   "outputs": [],
   "source": [
    "#send a text to a channel as message\n",
    "def sendtext(channel,text,username=\"Raspi_Bot\"):\n",
    "    sc.api_call(\"chat.postMessage\",channel=channel,text=text,username=\"Raspi_Bot\")"
   ]
  },
  {
   "cell_type": "code",
   "execution_count": 58,
   "metadata": {},
   "outputs": [],
   "source": [
    "#api documentation at https://api.slack.com/methods/chat.postMessage#authorship\n",
    "sendtext(channel = \"#general\", text = \"Hello World!\")"
   ]
  }
 ],
 "metadata": {
  "kernelspec": {
   "display_name": "Python 3",
   "language": "python",
   "name": "python3"
  },
  "language_info": {
   "codemirror_mode": {
    "name": "ipython",
    "version": 3
   },
   "file_extension": ".py",
   "mimetype": "text/x-python",
   "name": "python",
   "nbconvert_exporter": "python",
   "pygments_lexer": "ipython3",
   "version": "3.6.1"
  }
 },
 "nbformat": 4,
 "nbformat_minor": 2
}
